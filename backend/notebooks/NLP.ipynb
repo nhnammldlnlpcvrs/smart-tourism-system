{
 "cells": [
  {
   "cell_type": "code",
   "execution_count": 26,
   "id": "88343e9f",
   "metadata": {},
   "outputs": [
    {
     "name": "stdout",
     "output_type": "stream",
     "text": [
      "Tổng số mẫu: 3054\n"
     ]
    },
    {
     "data": {
      "text/html": [
       "<div>\n",
       "<style scoped>\n",
       "    .dataframe tbody tr th:only-of-type {\n",
       "        vertical-align: middle;\n",
       "    }\n",
       "\n",
       "    .dataframe tbody tr th {\n",
       "        vertical-align: top;\n",
       "    }\n",
       "\n",
       "    .dataframe thead th {\n",
       "        text-align: right;\n",
       "    }\n",
       "</style>\n",
       "<table border=\"1\" class=\"dataframe\">\n",
       "  <thead>\n",
       "    <tr style=\"text-align: right;\">\n",
       "      <th></th>\n",
       "      <th>text</th>\n",
       "      <th>label</th>\n",
       "      <th>label_id</th>\n",
       "    </tr>\n",
       "  </thead>\n",
       "  <tbody>\n",
       "    <tr>\n",
       "      <th>0</th>\n",
       "      <td>Homestay ở Thái Bình có phục vụ ăn sáng không?</td>\n",
       "      <td>info</td>\n",
       "      <td>1</td>\n",
       "    </tr>\n",
       "    <tr>\n",
       "      <th>1</th>\n",
       "      <td>Đi Pleiku vào cuối tuần có kẹt xe không?</td>\n",
       "      <td>info</td>\n",
       "      <td>1</td>\n",
       "    </tr>\n",
       "    <tr>\n",
       "      <th>2</th>\n",
       "      <td>Sơn Tùng M-TP ra bài mới chưa?</td>\n",
       "      <td>none</td>\n",
       "      <td>0</td>\n",
       "    </tr>\n",
       "    <tr>\n",
       "      <th>3</th>\n",
       "      <td>Nên đi Đảo Cát Bà vào mùa nào là đẹp nhất?</td>\n",
       "      <td>info</td>\n",
       "      <td>1</td>\n",
       "    </tr>\n",
       "    <tr>\n",
       "      <th>4</th>\n",
       "      <td>Có chuyến bay nào thẳng đến Ninh Thuận không?</td>\n",
       "      <td>info</td>\n",
       "      <td>1</td>\n",
       "    </tr>\n",
       "  </tbody>\n",
       "</table>\n",
       "</div>"
      ],
      "text/plain": [
       "                                             text label  label_id\n",
       "0  Homestay ở Thái Bình có phục vụ ăn sáng không?  info         1\n",
       "1        Đi Pleiku vào cuối tuần có kẹt xe không?  info         1\n",
       "2                  Sơn Tùng M-TP ra bài mới chưa?  none         0\n",
       "3      Nên đi Đảo Cát Bà vào mùa nào là đẹp nhất?  info         1\n",
       "4   Có chuyến bay nào thẳng đến Ninh Thuận không?  info         1"
      ]
     },
     "metadata": {},
     "output_type": "display_data"
    },
    {
     "name": "stdout",
     "output_type": "stream",
     "text": [
      "Train: 2137 | Val: 458 | Test: 459\n",
      "Trùng giữa train và val: 0\n",
      "Trùng giữa train và test: 0\n",
      "Trùng giữa val và test: 0\n"
     ]
    }
   ],
   "source": [
    "import pandas as pd\n",
    "from sklearn.model_selection import train_test_split\n",
    "\n",
    "df = pd.read_csv(\"../data/intents.csv\")\n",
    "\n",
    "df = df.drop_duplicates(subset=\"text\")\n",
    "df.to_csv(\"../data/intents_dedup.csv\", index=False)\n",
    "\n",
    "label2id = {\"none\": 0, \"info\": 1}\n",
    "df[\"label_id\"] = df[\"label\"].map(label2id)\n",
    "\n",
    "df = df.dropna(subset=[\"label_id\"])\n",
    "\n",
    "print(\"Tổng số mẫu:\", len(df))\n",
    "display(df.head())\n",
    "\n",
    "train_df, temp_df = train_test_split(df, test_size=0.3, stratify=df[\"label_id\"], random_state=42)\n",
    "val_df, test_df = train_test_split(temp_df, test_size=0.5, stratify=temp_df[\"label_id\"], random_state=42)\n",
    "\n",
    "print(f\"Train: {len(train_df)} | Val: {len(val_df)} | Test: {len(test_df)}\")\n",
    "\n",
    "print(\"Trùng giữa train và val:\", len(set(train_df[\"text\"]) & set(val_df[\"text\"])))\n",
    "print(\"Trùng giữa train và test:\", len(set(train_df[\"text\"]) & set(test_df[\"text\"])))\n",
    "print(\"Trùng giữa val và test:\", len(set(val_df[\"text\"]) & set(test_df[\"text\"])))"
   ]
  },
  {
   "cell_type": "code",
   "execution_count": 27,
   "id": "8f7c7f38",
   "metadata": {},
   "outputs": [
    {
     "name": "stderr",
     "output_type": "stream",
     "text": [
      "Some weights of RobertaForSequenceClassification were not initialized from the model checkpoint at vinai/phobert-base-v2 and are newly initialized: ['classifier.dense.bias', 'classifier.dense.weight', 'classifier.out_proj.bias', 'classifier.out_proj.weight']\n",
      "You should probably TRAIN this model on a down-stream task to be able to use it for predictions and inference.\n"
     ]
    }
   ],
   "source": [
    "from transformers import AutoTokenizer, AutoModelForSequenceClassification\n",
    "\n",
    "MODEL_NAME = \"vinai/phobert-base-v2\"\n",
    "\n",
    "tokenizer = AutoTokenizer.from_pretrained(MODEL_NAME, use_fast=False)\n",
    "model = AutoModelForSequenceClassification.from_pretrained(MODEL_NAME, num_labels=2)"
   ]
  },
  {
   "cell_type": "code",
   "execution_count": 28,
   "id": "46105cc9",
   "metadata": {},
   "outputs": [],
   "source": [
    "import torch\n",
    "from torch.utils.data import Dataset\n",
    "\n",
    "class IntentDataset(Dataset):\n",
    "    def __init__(self, texts, labels, tokenizer, max_len=64):\n",
    "        self.texts = texts\n",
    "        self.labels = labels\n",
    "        self.tokenizer = tokenizer\n",
    "        self.max_len = max_len\n",
    "\n",
    "    def __len__(self):\n",
    "        return len(self.texts)\n",
    "\n",
    "    def __getitem__(self, idx):\n",
    "        text = str(self.texts[idx])\n",
    "        label = int(self.labels[idx])\n",
    "        encoding = self.tokenizer(\n",
    "            text,\n",
    "            add_special_tokens=True,\n",
    "            truncation=True,\n",
    "            max_length=self.max_len,\n",
    "            padding='max_length',\n",
    "            return_tensors='pt'\n",
    "        )\n",
    "        item = {k: v.squeeze(0) for k, v in encoding.items()}\n",
    "        item[\"labels\"] = torch.tensor(label, dtype=torch.long)\n",
    "        return item\n",
    "\n",
    "# Khởi tạo Dataset\n",
    "train_dataset = IntentDataset(train_df[\"text\"].tolist(), train_df[\"label_id\"].tolist(), tokenizer)\n",
    "val_dataset   = IntentDataset(val_df[\"text\"].tolist(), val_df[\"label_id\"].tolist(), tokenizer)\n",
    "test_dataset  = IntentDataset(test_df[\"text\"].tolist(), test_df[\"label_id\"].tolist(), tokenizer)"
   ]
  },
  {
   "cell_type": "code",
   "execution_count": 29,
   "id": "1e39e9a4",
   "metadata": {},
   "outputs": [
    {
     "name": "stderr",
     "output_type": "stream",
     "text": [
      "Epoch 1: 100%|██████████| 134/134 [04:44<00:00,  2.12s/it]\n"
     ]
    },
    {
     "name": "stdout",
     "output_type": "stream",
     "text": [
      "Epoch 1 | Validation accuracy: 0.9891\n"
     ]
    },
    {
     "name": "stderr",
     "output_type": "stream",
     "text": [
      "Epoch 2: 100%|██████████| 134/134 [05:12<00:00,  2.34s/it]\n"
     ]
    },
    {
     "name": "stdout",
     "output_type": "stream",
     "text": [
      "Epoch 2 | Validation accuracy: 0.9978\n"
     ]
    },
    {
     "name": "stderr",
     "output_type": "stream",
     "text": [
      "Epoch 3: 100%|██████████| 134/134 [05:07<00:00,  2.29s/it]\n"
     ]
    },
    {
     "name": "stdout",
     "output_type": "stream",
     "text": [
      "Epoch 3 | Validation accuracy: 0.9978\n"
     ]
    }
   ],
   "source": [
    "from torch.utils.data import DataLoader\n",
    "from torch.optim import AdamW\n",
    "from transformers import get_scheduler\n",
    "from tqdm.auto import tqdm\n",
    "from sklearn.metrics import accuracy_score\n",
    "\n",
    "device = torch.device(\"cuda\" if torch.cuda.is_available() else \"cpu\")\n",
    "model.to(device)\n",
    "\n",
    "train_loader = DataLoader(train_dataset, batch_size=16, shuffle=True)\n",
    "val_loader   = DataLoader(val_dataset, batch_size=16)\n",
    "\n",
    "num_epochs = 3\n",
    "optimizer = AdamW(model.parameters(), lr=2e-5)\n",
    "num_training_steps = len(train_loader) * num_epochs\n",
    "scheduler = get_scheduler(\"linear\", optimizer=optimizer, num_warmup_steps=0, num_training_steps=num_training_steps)\n",
    "\n",
    "best_val_acc = 0.0\n",
    "\n",
    "for epoch in range(num_epochs):\n",
    "    model.train()\n",
    "    for batch in tqdm(train_loader, desc=f\"Epoch {epoch+1}\"):\n",
    "        batch = {k: v.to(device) for k, v in batch.items()}\n",
    "        outputs = model(**batch)\n",
    "        loss = outputs.loss\n",
    "        loss.backward()\n",
    "        optimizer.step()\n",
    "        scheduler.step()\n",
    "        optimizer.zero_grad()\n",
    "\n",
    "    # Evaluate validation\n",
    "    model.eval()\n",
    "    val_preds, val_labels = [], []\n",
    "    with torch.no_grad():\n",
    "        for batch in val_loader:\n",
    "            batch = {k:v.to(device) for k,v in batch.items()}\n",
    "            outputs = model(**batch)\n",
    "            preds = torch.argmax(outputs.logits, dim=-1)\n",
    "            val_preds.extend(preds.cpu().numpy())\n",
    "            val_labels.extend(batch[\"labels\"].cpu().numpy())\n",
    "\n",
    "    val_acc = accuracy_score(val_labels, val_preds)\n",
    "    print(f\"Epoch {epoch+1} | Validation accuracy: {val_acc:.4f}\")"
   ]
  },
  {
   "cell_type": "code",
   "execution_count": 30,
   "id": "2086b427",
   "metadata": {},
   "outputs": [
    {
     "name": "stderr",
     "output_type": "stream",
     "text": [
      "Testing: 100%|██████████| 29/29 [00:12<00:00,  2.27it/s]"
     ]
    },
    {
     "name": "stdout",
     "output_type": "stream",
     "text": [
      "Test Accuracy: 1.0\n",
      "              precision    recall  f1-score   support\n",
      "\n",
      "        none       1.00      1.00      1.00        11\n",
      "        info       1.00      1.00      1.00       448\n",
      "\n",
      "    accuracy                           1.00       459\n",
      "   macro avg       1.00      1.00      1.00       459\n",
      "weighted avg       1.00      1.00      1.00       459\n",
      "\n"
     ]
    },
    {
     "name": "stderr",
     "output_type": "stream",
     "text": [
      "\n"
     ]
    }
   ],
   "source": [
    "from sklearn.metrics import classification_report\n",
    "\n",
    "test_loader = DataLoader(test_dataset, batch_size=16, shuffle=False)\n",
    "model.eval()\n",
    "preds, true = [], []\n",
    "\n",
    "with torch.no_grad():\n",
    "    for batch in tqdm(test_loader, desc=\"Testing\"):\n",
    "        batch = {k:v.to(device) for k,v in batch.items()}\n",
    "        outputs = model(**batch)\n",
    "        pred = torch.argmax(outputs.logits, dim=-1)\n",
    "        preds.extend(pred.cpu().numpy())\n",
    "        true.extend(batch[\"labels\"].cpu().numpy())\n",
    "\n",
    "print(\"Test Accuracy:\", accuracy_score(true, preds)) \n",
    "print(classification_report(true, preds, target_names=[\"none\", \"info\"]))"
   ]
  },
  {
   "cell_type": "code",
   "execution_count": 33,
   "id": "29a3a0f5",
   "metadata": {},
   "outputs": [
    {
     "name": "stdout",
     "output_type": "stream",
     "text": [
      "info\n",
      "none\n",
      "Đã lưu kết quả dự đoán vào: ../data/processed/predict_intents.csv\n"
     ]
    },
    {
     "data": {
      "text/html": [
       "<div>\n",
       "<style scoped>\n",
       "    .dataframe tbody tr th:only-of-type {\n",
       "        vertical-align: middle;\n",
       "    }\n",
       "\n",
       "    .dataframe tbody tr th {\n",
       "        vertical-align: top;\n",
       "    }\n",
       "\n",
       "    .dataframe thead th {\n",
       "        text-align: right;\n",
       "    }\n",
       "</style>\n",
       "<table border=\"1\" class=\"dataframe\">\n",
       "  <thead>\n",
       "    <tr style=\"text-align: right;\">\n",
       "      <th></th>\n",
       "      <th>text</th>\n",
       "      <th>true_label</th>\n",
       "      <th>pred_label</th>\n",
       "    </tr>\n",
       "  </thead>\n",
       "  <tbody>\n",
       "    <tr>\n",
       "      <th>0</th>\n",
       "      <td>Bạn có biết chỗ nghỉ nào view đẹp ở Chợ Bến Th...</td>\n",
       "      <td>info</td>\n",
       "      <td>info</td>\n",
       "    </tr>\n",
       "    <tr>\n",
       "      <th>1</th>\n",
       "      <td>Nếu tôi đến Eo Gió thì nên đi đâu đầu tiên?</td>\n",
       "      <td>info</td>\n",
       "      <td>info</td>\n",
       "    </tr>\n",
       "    <tr>\n",
       "      <th>2</th>\n",
       "      <td>Tôi muốn đi phượt Đảo Bình Ba, có nguy hiểm kh...</td>\n",
       "      <td>info</td>\n",
       "      <td>info</td>\n",
       "    </tr>\n",
       "    <tr>\n",
       "      <th>3</th>\n",
       "      <td>Tôi có thể đổi tiền ở đâu khi đến Cần Thơ?</td>\n",
       "      <td>info</td>\n",
       "      <td>info</td>\n",
       "    </tr>\n",
       "    <tr>\n",
       "      <th>4</th>\n",
       "      <td>Có chuyến bay nào thẳng đến Mộc Châu không?</td>\n",
       "      <td>info</td>\n",
       "      <td>info</td>\n",
       "    </tr>\n",
       "  </tbody>\n",
       "</table>\n",
       "</div>"
      ],
      "text/plain": [
       "                                                text true_label pred_label\n",
       "0  Bạn có biết chỗ nghỉ nào view đẹp ở Chợ Bến Th...       info       info\n",
       "1        Nếu tôi đến Eo Gió thì nên đi đâu đầu tiên?       info       info\n",
       "2  Tôi muốn đi phượt Đảo Bình Ba, có nguy hiểm kh...       info       info\n",
       "3         Tôi có thể đổi tiền ở đâu khi đến Cần Thơ?       info       info\n",
       "4        Có chuyến bay nào thẳng đến Mộc Châu không?       info       info"
      ]
     },
     "metadata": {},
     "output_type": "display_data"
    }
   ],
   "source": [
    "def predict_intent(text):\n",
    "    model.eval()\n",
    "    inputs = tokenizer(text, return_tensors=\"pt\", padding=True, truncation=True, max_length=128).to(device)\n",
    "    with torch.no_grad():\n",
    "        outputs = model(**inputs)\n",
    "        pred = torch.argmax(outputs.logits, dim=-1).cpu().item()\n",
    "    for k, v in label2id.items():\n",
    "        if v == pred:\n",
    "            return k\n",
    "\n",
    "print(predict_intent(\"Homestay ở Thái Bình có phục vụ ăn sáng không?\"))\n",
    "print(predict_intent(\"Sơn Tùng M-TP ra bài mới chưa?\"))\n",
    "\n",
    "pred_df = pd.DataFrame({\n",
    "    \"text\": test_df[\"text\"].tolist(),\n",
    "    \"true_label\": test_df[\"label\"].tolist(),\n",
    "    \"pred_label\": [\"info\" if p == 1 else \"none\" for p in preds]\n",
    "})\n",
    "\n",
    "output_path = \"../data/processed/predict_intents.csv\"\n",
    "pred_df.to_csv(output_path, index=False, encoding=\"utf-8-sig\")\n",
    "\n",
    "print(f\"Đã lưu kết quả dự đoán vào: {output_path}\")\n",
    "display(pred_df.head())"
   ]
  },
  {
   "cell_type": "code",
   "execution_count": 32,
   "id": "b01f5ec4",
   "metadata": {},
   "outputs": [
    {
     "name": "stdout",
     "output_type": "stream",
     "text": [
      "Mô hình và tokenizer đã được lưu thành công.\n"
     ]
    }
   ],
   "source": [
    "model.save_pretrained(\"../models/intent_model\")\n",
    "tokenizer.save_pretrained(\"../models/intent_model\")\n",
    "print(\"Mô hình và tokenizer đã được lưu thành công.\")"
   ]
  }
 ],
 "metadata": {
  "kernelspec": {
   "display_name": "tourism_env",
   "language": "python",
   "name": "python3"
  },
  "language_info": {
   "codemirror_mode": {
    "name": "ipython",
    "version": 3
   },
   "file_extension": ".py",
   "mimetype": "text/x-python",
   "name": "python",
   "nbconvert_exporter": "python",
   "pygments_lexer": "ipython3",
   "version": "3.10.18"
  }
 },
 "nbformat": 4,
 "nbformat_minor": 5
}
